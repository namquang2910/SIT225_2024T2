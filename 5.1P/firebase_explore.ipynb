{
 "cells": [
  {
   "cell_type": "code",
   "execution_count": 11,
   "metadata": {},
   "outputs": [
    {
     "name": "stdout",
     "output_type": "stream",
     "text": [
      "s223149341 Van Nam Quang Nguyen\n"
     ]
    }
   ],
   "source": [
    "# Fill in student ID and name\n",
    "# \n",
    "student_id = \"s223149341\"\n",
    "student_first_last_name = \"Van Nam Quang Nguyen\"\n",
    "print(student_id, student_first_last_name)"
   ]
  },
  {
   "cell_type": "code",
   "execution_count": 12,
   "metadata": {},
   "outputs": [
    {
     "ename": "ValueError",
     "evalue": "The default Firebase app already exists. This means you called initialize_app() more than once without providing an app name as the second argument. In most cases you only need to call initialize_app() once. But if you do want to initialize multiple apps, pass a second argument to initialize_app() to give each app a unique name.",
     "output_type": "error",
     "traceback": [
      "\u001b[0;31m---------------------------------------------------------------------------\u001b[0m",
      "\u001b[0;31mValueError\u001b[0m                                Traceback (most recent call last)",
      "Cell \u001b[0;32mIn[12], line 18\u001b[0m\n\u001b[1;32m     14\u001b[0m databaseURL \u001b[38;5;241m=\u001b[39m \u001b[38;5;124m'\u001b[39m\u001b[38;5;124mhttps://sit225-2024-default-rtdb.asia-southeast1.firebasedatabase.app/\u001b[39m\u001b[38;5;124m'\u001b[39m\n\u001b[1;32m     15\u001b[0m cred_obj \u001b[38;5;241m=\u001b[39m firebase_admin\u001b[38;5;241m.\u001b[39mcredentials\u001b[38;5;241m.\u001b[39mCertificate(\n\u001b[1;32m     16\u001b[0m     \u001b[38;5;124m'\u001b[39m\u001b[38;5;124msit225-2024-firebase-adminsdk-8yopu-1f7163bd72.json\u001b[39m\u001b[38;5;124m'\u001b[39m\n\u001b[1;32m     17\u001b[0m )\n\u001b[0;32m---> 18\u001b[0m default_app \u001b[38;5;241m=\u001b[39m firebase_admin\u001b[38;5;241m.\u001b[39minitialize_app(cred_obj, {\n\u001b[1;32m     19\u001b[0m \t\u001b[38;5;124m'\u001b[39m\u001b[38;5;124mdatabaseURL\u001b[39m\u001b[38;5;124m'\u001b[39m:databaseURL\n\u001b[1;32m     20\u001b[0m \t})\n",
      "File \u001b[0;32m/opt/anaconda3/lib/python3.11/site-packages/firebase_admin/__init__.py:73\u001b[0m, in \u001b[0;36minitialize_app\u001b[0;34m(credential, options, name)\u001b[0m\n\u001b[1;32m     70\u001b[0m         \u001b[38;5;28;01mreturn\u001b[39;00m app\n\u001b[1;32m     72\u001b[0m \u001b[38;5;28;01mif\u001b[39;00m name \u001b[38;5;241m==\u001b[39m _DEFAULT_APP_NAME:\n\u001b[0;32m---> 73\u001b[0m     \u001b[38;5;28;01mraise\u001b[39;00m \u001b[38;5;167;01mValueError\u001b[39;00m((\n\u001b[1;32m     74\u001b[0m         \u001b[38;5;124m'\u001b[39m\u001b[38;5;124mThe default Firebase app already exists. This means you called \u001b[39m\u001b[38;5;124m'\u001b[39m\n\u001b[1;32m     75\u001b[0m         \u001b[38;5;124m'\u001b[39m\u001b[38;5;124minitialize_app() more than once without providing an app name as \u001b[39m\u001b[38;5;124m'\u001b[39m\n\u001b[1;32m     76\u001b[0m         \u001b[38;5;124m'\u001b[39m\u001b[38;5;124mthe second argument. In most cases you only need to call \u001b[39m\u001b[38;5;124m'\u001b[39m\n\u001b[1;32m     77\u001b[0m         \u001b[38;5;124m'\u001b[39m\u001b[38;5;124minitialize_app() once. But if you do want to initialize multiple \u001b[39m\u001b[38;5;124m'\u001b[39m\n\u001b[1;32m     78\u001b[0m         \u001b[38;5;124m'\u001b[39m\u001b[38;5;124mapps, pass a second argument to initialize_app() to give each app \u001b[39m\u001b[38;5;124m'\u001b[39m\n\u001b[1;32m     79\u001b[0m         \u001b[38;5;124m'\u001b[39m\u001b[38;5;124ma unique name.\u001b[39m\u001b[38;5;124m'\u001b[39m))\n\u001b[1;32m     81\u001b[0m \u001b[38;5;28;01mraise\u001b[39;00m \u001b[38;5;167;01mValueError\u001b[39;00m((\n\u001b[1;32m     82\u001b[0m     \u001b[38;5;124m'\u001b[39m\u001b[38;5;124mFirebase app named \u001b[39m\u001b[38;5;124m\"\u001b[39m\u001b[38;5;132;01m{0}\u001b[39;00m\u001b[38;5;124m\"\u001b[39m\u001b[38;5;124m already exists. This means you called \u001b[39m\u001b[38;5;124m'\u001b[39m\n\u001b[1;32m     83\u001b[0m     \u001b[38;5;124m'\u001b[39m\u001b[38;5;124minitialize_app() more than once with the same app name as the \u001b[39m\u001b[38;5;124m'\u001b[39m\n\u001b[1;32m     84\u001b[0m     \u001b[38;5;124m'\u001b[39m\u001b[38;5;124msecond argument. Make sure you provide a unique name every time \u001b[39m\u001b[38;5;124m'\u001b[39m\n\u001b[1;32m     85\u001b[0m     \u001b[38;5;124m'\u001b[39m\u001b[38;5;124myou call initialize_app().\u001b[39m\u001b[38;5;124m'\u001b[39m)\u001b[38;5;241m.\u001b[39mformat(name))\n",
      "\u001b[0;31mValueError\u001b[0m: The default Firebase app already exists. This means you called initialize_app() more than once without providing an app name as the second argument. In most cases you only need to call initialize_app() once. But if you do want to initialize multiple apps, pass a second argument to initialize_app() to give each app a unique name."
     ]
    }
   ],
   "source": [
    "\"\"\"\n",
    "\tFirebase Realtime database demonstration.\n",
    "    \n",
    "    @Ahsan Habib\n",
    "    School of IT,\n",
    "    Deakin University, Australia.\n",
    "\"\"\"\n",
    "\n",
    "# Install libraris, if not yet.\n",
    "#! pip install firebase_admin pandas\n",
    "\n",
    "import firebase_admin\n",
    "\n",
    "databaseURL = 'https://sit225-2024-default-rtdb.asia-southeast1.firebasedatabase.app/'\n",
    "cred_obj = firebase_admin.credentials.Certificate(\n",
    "    'sit225-2024-firebase-adminsdk-8yopu-1f7163bd72.json'\n",
    ")\n",
    "default_app = firebase_admin.initialize_app(cred_obj, {\n",
    "\t'databaseURL':databaseURL\n",
    "\t})"
   ]
  },
  {
   "cell_type": "code",
   "execution_count": 22,
   "metadata": {},
   "outputs": [],
   "source": [
    "from firebase_admin import db\n",
    "\n",
    "# A reference point is always needed to be set\n",
    "# before any operation is carried out on a database.\n",
    "# \n",
    "ref = db.reference(\"/\")\n",
    "\n",
    "# JSON format data (key/value pair)\n",
    "data = {  # Outer {} contains inner data structure\n",
    "\t\"Book1\":\n",
    "\t{\n",
    "\t\t\"Title\": \"The Fellowship of the Ring\",\n",
    "\t\t\"Author\": \"J.R.R. Tolkien\",\n",
    "\t\t\"Genre\": \"Epic fantasy\",\n",
    "\t\t\"Price\": 100\n",
    "\t},\n",
    "\t\"Book2\":\n",
    "\t{\n",
    "\t\t\"Title\": \"The Two Towers\",\n",
    "\t\t\"Author\": \"J.R.R. Tolkien\",\n",
    "\t\t\"Genre\": \"Epic fantasy\",\n",
    "\t\t\"Price\": 100\t\n",
    "\t},\n",
    "\t\"Book3\":\n",
    "\t{\n",
    "\t\t\"Title\": \"The Return of the King\",\n",
    "\t\t\"Author\": \"J.R.R. Tolkien\",\n",
    "\t\t\"Genre\": \"Epic fantasy\",\n",
    "\t\t\"Price\": 100\n",
    "\t},\n",
    "\t\"Book4\":\n",
    "\t{\n",
    "\t\t\"Title\": \"Brida\",\n",
    "\t\t\"Author\": \"Paulo Coelho\",\n",
    "\t\t\"Genre\": \"Fiction\",\n",
    "\t\t\"Price\": 100\n",
    "\t}\n",
    "}\n",
    "\n",
    "# JSON format data is set (overwritten) to the reference \n",
    "# point set at /, which is the root node.\n",
    "# \n",
    "ref.set(data)"
   ]
  },
  {
   "cell_type": "code",
   "execution_count": 23,
   "metadata": {},
   "outputs": [
    {
     "name": "stdout",
     "output_type": "stream",
     "text": [
      "{'Book1': {'Author': 'J.R.R. Tolkien', 'Genre': 'Epic fantasy', 'Price': 100, 'Title': 'The Fellowship of the Ring'}, 'Book2': {'Author': 'J.R.R. Tolkien', 'Genre': 'Epic fantasy', 'Price': 100, 'Title': 'The Two Towers'}, 'Book3': {'Author': 'J.R.R. Tolkien', 'Genre': 'Epic fantasy', 'Price': 100, 'Title': 'The Return of the King'}, 'Book4': {'Author': 'Paulo Coelho', 'Genre': 'Fiction', 'Price': 100, 'Title': 'Brida'}}\n",
      "<class 'dict'>\n",
      "Book1: {'Author': 'J.R.R. Tolkien', 'Genre': 'Epic fantasy', 'Price': 100, 'Title': 'The Fellowship of the Ring'}\n",
      "Book2: {'Author': 'J.R.R. Tolkien', 'Genre': 'Epic fantasy', 'Price': 100, 'Title': 'The Two Towers'}\n",
      "Book3: {'Author': 'J.R.R. Tolkien', 'Genre': 'Epic fantasy', 'Price': 100, 'Title': 'The Return of the King'}\n",
      "Book4: {'Author': 'Paulo Coelho', 'Genre': 'Fiction', 'Price': 100, 'Title': 'Brida'}\n",
      "{'Author': 'J.R.R. Tolkien', 'Genre': 'Epic fantasy', 'Price': 100, 'Title': 'The Fellowship of the Ring'}\n"
     ]
    }
   ],
   "source": [
    "ref = db.reference(\"/\")  # set ref point\n",
    "\n",
    "# query all data under the ref\n",
    "books = ref.get()  \n",
    "print(books)\n",
    "print(type(books))\n",
    "\n",
    "# print each item separately\n",
    "for key, value in books.items():\n",
    "    print(f\"{key}: {value}\")\n",
    "\n",
    "\n",
    "# Query /Book1\n",
    "ref = db.reference(\"/Book1\")\n",
    "books = ref.get()\n",
    "print(books)"
   ]
  },
  {
   "cell_type": "code",
   "execution_count": 24,
   "metadata": {},
   "outputs": [],
   "source": [
    "# Write using push() function\n",
    "# Note that a set() is called on top of push()\n",
    "# \n",
    "ref = db.reference(\"/\")\n",
    "ref.set({\n",
    "\t\"Books\":\n",
    "\t{\n",
    "\t\t\"Best_Sellers\": -1\n",
    "\t}\n",
    "})\n",
    "\n",
    "ref = db.reference(\"/Books/Best_Sellers\")\n",
    "\n",
    "for key, value in data.items():\n",
    "\tref.push().set(value)"
   ]
  },
  {
   "cell_type": "code",
   "execution_count": 16,
   "metadata": {},
   "outputs": [
    {
     "name": "stdout",
     "output_type": "stream",
     "text": [
      "{'-O3bWkcBZVQxejYsA48P': {'Author': 'J.R.R. Tolkien', 'Genre': 'Epic fantasy', 'Price': 100, 'Title': 'The Fellowship of the Ring'}, '-O3bWkkYvJe56RNYd71D': {'Author': 'J.R.R. Tolkien', 'Genre': 'Epic fantasy', 'Price': 100, 'Title': 'The Two Towers'}, '-O3bWkpNVWRX8rW-yarV': {'Author': 'J.R.R. Tolkien', 'Genre': 'Epic fantasy', 'Price': 100, 'Title': 'The Return of the King'}, '-O3bWkujpH8a__sRo_sz': {'Author': 'Paulo Coelho', 'Genre': 'Fiction', 'Price': 100, 'Title': 'Brida'}}\n"
     ]
    }
   ],
   "source": [
    "# Update data\n",
    "# \n",
    "# Requirement: The price of the books by \n",
    "# J. R. R. Tolkien is reduced to 80 units to \n",
    "# offer a discount.\n",
    "# \n",
    "ref = db.reference(\"/Books/Best_Sellers/\")\n",
    "best_sellers = ref.get()\n",
    "print(best_sellers)\n",
    "for key, value in best_sellers.items():\n",
    "\tif(value[\"Author\"] == \"J.R.R. Tolkien\"):\n",
    "\t\tvalue[\"Price\"] = 90\n",
    "\t\tref.child(key).update({\"Price\":80})"
   ]
  },
  {
   "cell_type": "code",
   "execution_count": 17,
   "metadata": {},
   "outputs": [],
   "source": [
    "# Let's delete all best seller books \n",
    "# with J.R.R. Tolkien as the author.\n",
    "# \n",
    "ref = db.reference(\"/Books/Best_Sellers\")\n",
    "\n",
    "for key, value in best_sellers.items():\n",
    "\tif(value[\"Author\"] == \"J.R.R. Tolkien\"):\n",
    "\t\tref.child(key).set({})"
   ]
  },
  {
   "cell_type": "code",
   "execution_count": 18,
   "metadata": {},
   "outputs": [
    {
     "name": "stdout",
     "output_type": "stream",
     "text": [
      "{'-O3bWkujpH8a__sRo_sz': {'Author': 'Paulo Coelho', 'Genre': 'Fiction', 'Price': 100, 'Title': 'Brida'}}\n",
      "<class 'dict'>\n"
     ]
    }
   ],
   "source": [
    "# Delete all best_seller data.\n",
    "# \n",
    "ref = db.reference(\"/Books/Best_Sellers/\")\n",
    "best_sellers = ref.get()\n",
    "print(best_sellers)\n",
    "print(type(best_sellers))"
   ]
  },
  {
   "cell_type": "code",
   "execution_count": 25,
   "metadata": {},
   "outputs": [],
   "source": [
    "ref = db.reference(\"/Books/Best_Sellers\")\n",
    "ref.set({})"
   ]
  },
  {
   "cell_type": "code",
   "execution_count": 31,
   "metadata": {},
   "outputs": [
    {
     "name": "stdout",
     "output_type": "stream",
     "text": [
      "[{'humidity': 60.2, 'temperature': 25.6, 'timestamp': '2024-08-06T12:00:00Z'}, {'humidity': 59.8, 'temperature': 25.8, 'timestamp': '2024-08-06T12:10:00Z'}]\n",
      "{'0': {'humidity': 60.2, 'temperature': 25.6, 'timestamp': '2024-08-06T12:00:00Z'}, '1': {'humidity': 59.8, 'temperature': 25.8, 'timestamp': '2024-08-06T12:10:00Z'}, '-O3bbkNIjHYYuJe8VWJ9': {'humidity': 59.8, 'temperature': 25.8, 'timestamp': '2024-08-06T12:10:00Z'}}\n"
     ]
    }
   ],
   "source": [
    "ref = db.reference(\"/\")\n",
    "\n",
    "sensor_data = {\n",
    "    \"DHT22\": [ {\n",
    "            \"timestamp\": \"2024-08-06T12:00:00Z\",\n",
    "            \"temperature\": 25.6,\n",
    "            \"humidity\": 60.2\n",
    "        },\n",
    "        {\n",
    "            \"timestamp\": \"2024-08-06T12:10:00Z\",\n",
    "            \"temperature\": 25.8,\n",
    "            \"humidity\": 59.8\n",
    "        }\n",
    "    ]\n",
    "}\n",
    "ref.set(sensor_data)\n",
    "ref = db.reference(\"/DHT22/\")\n",
    "before = ref.get()\n",
    "print(before)\n",
    "ref.push().set(\n",
    "    {\n",
    "             \"timestamp\": \"2024-08-06T12:10:00Z\",\n",
    "            \"temperature\": 25.8,\n",
    "            \"humidity\": 59.8  \n",
    "    }\n",
    ")\n",
    "after = ref.get()\n",
    "for key, value in after.items():\n",
    "    print(f\"{key}: {value}\")\n"
   ]
  },
  {
   "cell_type": "code",
   "execution_count": 33,
   "metadata": {},
   "outputs": [
    {
     "name": "stdout",
     "output_type": "stream",
     "text": [
      "[{'distance': 25, 'duration': 450, 'timestamp': '2024-08-06T12:00:00Z'}, {'distance': 40, 'duration': 600, 'timestamp': '2024-08-06T12:10:00Z'}]\n",
      "0: {'distance': 25, 'duration': 450, 'timestamp': '2024-08-06T12:00:00Z'}\n",
      "1: {'distance': 40, 'duration': 600, 'timestamp': '2024-08-06T12:10:00Z'}\n",
      "-O3bcPZcUb8xtxX_UUO8: {'distance': 30, 'duration': 500, 'timestamp': '2024-08-06T12:10:00Z'}\n"
     ]
    }
   ],
   "source": [
    "ref = db.reference(\"/\")\n",
    "\n",
    "sensor_data = {\n",
    "    \"HCSR04\": [ {\n",
    "            \"timestamp\": \"2024-08-06T12:00:00Z\",\n",
    "            \"duration\": 450,\n",
    "            \"distance\": 25\n",
    "        },\n",
    "        {\n",
    "            \"timestamp\": \"2024-08-06T12:10:00Z\",\n",
    "            \"duration\": 600,\n",
    "            \"distance\": 40\n",
    "        }\n",
    "    ]\n",
    "}\n",
    "ref.set(sensor_data)\n",
    "ref = db.reference(\"/HCSR04/\")\n",
    "before = ref.get()\n",
    "print(before)\n",
    "ref.push().set(\n",
    "    {\n",
    "        \"timestamp\": \"2024-08-06T12:10:00Z\",\n",
    "        \"duration\": 500,\n",
    "        \"distance\": 30\n",
    "    }\n",
    ")\n",
    "after = ref.get()\n",
    "for key, value in after.items():\n",
    "    print(f\"{key}: {value}\")"
   ]
  },
  {
   "cell_type": "code",
   "execution_count": null,
   "metadata": {},
   "outputs": [],
   "source": []
  },
  {
   "cell_type": "code",
   "execution_count": null,
   "metadata": {},
   "outputs": [],
   "source": []
  }
 ],
 "metadata": {
  "kernelspec": {
   "display_name": "Python 3 (ipykernel)",
   "language": "python",
   "name": "python3"
  },
  "language_info": {
   "codemirror_mode": {
    "name": "ipython",
    "version": 3
   },
   "file_extension": ".py",
   "mimetype": "text/x-python",
   "name": "python",
   "nbconvert_exporter": "python",
   "pygments_lexer": "ipython3",
   "version": "3.11.7"
  }
 },
 "nbformat": 4,
 "nbformat_minor": 4
}
