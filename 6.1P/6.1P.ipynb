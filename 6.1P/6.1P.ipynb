{
 "cells": [
  {
   "cell_type": "code",
   "execution_count": 72,
   "id": "aafe6eef-8711-4f06-b21b-62e53eafad5c",
   "metadata": {},
   "outputs": [],
   "source": [
    "#import the package\n",
    "import pandas as pd\n",
    "import plotly, dash\n",
    "import plotly.express as px\n",
    "from dash import Dash, html, dash_table, dcc, callback, Output, Input, State"
   ]
  },
  {
   "cell_type": "code",
   "execution_count": 73,
   "id": "6b5fec24-ca6d-43ff-af34-15db1ce8783e",
   "metadata": {},
   "outputs": [],
   "source": [
    "df = pd.read_csv('data_file.csv')\n",
    "df.drop(columns = \"id\",inplace = True)"
   ]
  },
  {
   "cell_type": "code",
   "execution_count": 95,
   "id": "d5bc150a-d077-4c8f-8c01-4f21a5278d3a",
   "metadata": {},
   "outputs": [
    {
     "name": "stdout",
     "output_type": "stream",
     "text": [
      "<class 'pandas.core.frame.DataFrame'>\n",
      "RangeIndex: 21089 entries, 0 to 21088\n",
      "Data columns (total 4 columns):\n",
      " #   Column     Non-Null Count  Dtype  \n",
      "---  ------     --------------  -----  \n",
      " 0   timestamp  21089 non-null  object \n",
      " 1   x          21089 non-null  float64\n",
      " 2   y          21089 non-null  float64\n",
      " 3   z          21089 non-null  float64\n",
      "dtypes: float64(3), object(1)\n",
      "memory usage: 659.2+ KB\n"
     ]
    }
   ],
   "source": [
    "df.info()"
   ]
  },
  {
   "cell_type": "code",
   "execution_count": 96,
   "id": "38016f31-ddd8-4df9-a853-9768fa6407b6",
   "metadata": {},
   "outputs": [
    {
     "name": "stdout",
     "output_type": "stream",
     "text": [
      "Dash app running on http://127.0.0.1:8050/\n"
     ]
    },
    {
     "data": {
      "application/javascript": [
       "window.open('http://127.0.0.1:8050/')"
      ],
      "text/plain": [
       "<IPython.core.display.Javascript object>"
      ]
     },
     "metadata": {},
     "output_type": "display_data"
    }
   ],
   "source": [
    "\n",
    "# Initialize the Dash app\n",
    "app = dash.Dash(__name__)\n",
    "\n",
    "# Set the initial value for the number of samples to display\n",
    "initial_value = 1000\n",
    "\n",
    "# Define the layout of the app\n",
    "app.layout = html.Div([\n",
    "    html.H1(\"Data Visualization\"),  # Title of the app\n",
    "    \n",
    "    # Dropdown for selecting the type of chart\n",
    "    html.Div([\n",
    "        dcc.Dropdown(\n",
    "            id='graph-dropdown',\n",
    "            placeholder='Please select types of chart',  # Placeholder text\n",
    "            options=[\n",
    "                {'label': 'Scatter Plot', 'value': 'scatter'},\n",
    "                {'label': 'Line Chart', 'value': 'line'},\n",
    "                {'label': 'Distribution Plot', 'value': 'dist'}\n",
    "            ],\n",
    "            value='scatter'  # Default value\n",
    "        )\n",
    "    ], style={\"width\": \"30%\"}),  # Set width for the dropdown container\n",
    "    \n",
    "    # Checklist for selecting variables (X, Y, Z)\n",
    "    html.Div([\n",
    "        dcc.Checklist(\n",
    "            id='var-list',\n",
    "            options=[\n",
    "                {'label': 'X', 'value': 'x'},\n",
    "                {'label': 'Y', 'value': 'y'},\n",
    "                {'label': 'Z', 'value': 'z'}\n",
    "            ],\n",
    "            value=['x'],  # Default value (X is selected by default)\n",
    "            inline=True  # Display options inline\n",
    "        )\n",
    "    ]),\n",
    "    \n",
    "    # Input field for specifying the number of samples to display\n",
    "    html.Div([\n",
    "        dcc.Input(\n",
    "            id='sample-input',\n",
    "            type='number',\n",
    "            value=initial_value,  # Set the initial value to 1000\n",
    "            style={'margin-top': '30px'}  # Add some space above the input field\n",
    "        )\n",
    "    ]),\n",
    "    \n",
    "    # Buttons for navigating through the data (Previous and Next)\n",
    "    html.Div([\n",
    "        html.Button('Previous', id='previous-button', n_clicks=0),  # Previous button\n",
    "        html.Button('Next', id='next-button', n_clicks=0),  # Next button\n",
    "    ], style={'margin-top': '20px'}),  # Add some space above the buttons\n",
    "        \n",
    "    html.Div([\n",
    "        html.H3(id = 'notification-area',\n",
    "        style={'color': 'red', 'margin-top': '20px'})\n",
    "    ]),\n",
    "    # Graph component to display the selected chart\n",
    "    html.Div([\n",
    "        dcc.Graph(id='graph')\n",
    "    ]),\n",
    "    \n",
    "    # Table to display summary statistics of the data\n",
    "    html.Div([\n",
    "        dash_table.DataTable(\n",
    "            id='summary-table',\n",
    "            columns=[{'name': i, 'id': i} for i in ['Statistic', 'X', 'Y', 'Z']],  # Define table columns\n",
    "            style_table={'width': '50%'}  # Set width for the table\n",
    "        )\n",
    "    ])\n",
    "])\n",
    "\n",
    "# Callback function to update the graph and summary table based on user inputs\n",
    "@app.callback(\n",
    "    Output('graph', 'figure'),  # Output: Update the figure in the graph\n",
    "    Output('summary-table', 'data'),  # Output: Update the data in the summary table\n",
    "    Output('notification-area','children'),\n",
    "    Input('graph-dropdown', 'value'),  # Input: Selected chart type\n",
    "    Input('var-list', 'value'),  # Input: Selected variables (X, Y, Z)\n",
    "    Input('sample-input', 'value'),  # Input: Number of samples to display\n",
    "    Input('previous-button', 'n_clicks'),  # Input: Number of clicks on the Previous button\n",
    "    Input('next-button', 'n_clicks')  # Input: Number of clicks on the Next button\n",
    ")\n",
    "def choose_graph_type(graph_dropdown, var_list, n_samples, prev_clicks, next_clicks):\n",
    "    # Initialize notification message\n",
    "    notification_message = ''\n",
    "    \n",
    "    # Validate the number of samples\n",
    "    if n_samples <= 0:\n",
    "        notification_message = 'Number of samples must be greater than 0.'\n",
    "        # Prevent update if the sample count is invalid\n",
    "        return dash.no_update, dash.no_update, notification_message\n",
    "    elif n_samples >= len(df):\n",
    "        notification_message = 'Number of samples must be less than total.'\n",
    "        return dash.no_update, dash.no_update, notification_message\n",
    "        \n",
    "    # Calculate the starting index based on the number of clicks on the buttons\n",
    "    total_clicks = next_clicks - prev_clicks\n",
    "    start_idx = total_clicks * n_samples\n",
    "    end_idx = start_idx + n_samples\n",
    "\n",
    "    # Ensure indices are within the data range\n",
    "    if start_idx < 0:\n",
    "        start_idx = 0\n",
    "    if end_idx > len(df):\n",
    "        end_idx = len(df)\n",
    "    \n",
    "    # Subset the data based on the calculated indices\n",
    "    data_subset = df.iloc[start_idx:end_idx]\n",
    "    \n",
    "    # Generate the figure based on the selected chart type\n",
    "    if graph_dropdown is None:\n",
    "        raise dash.exceptions.PreventUpdate()  # Prevent update if no chart type is selected\n",
    "    if graph_dropdown == 'scatter':\n",
    "        fig = px.scatter(data_subset, x='timestamp', y=var_list)  # Scatter plot\n",
    "    elif graph_dropdown == 'line':\n",
    "        fig = px.line(data_subset, x='timestamp', y=var_list)  # Line chart\n",
    "    elif graph_dropdown == 'dist':\n",
    "        fig = px.histogram(data_subset, x=var_list, title='Distribution Plot')  # Distribution plot\n",
    "    else:\n",
    "        fig = None  # Default to None if no valid chart type is selected\n",
    "    \n",
    "    # Calculate summary statistics (Mean, Median, Standard Deviation)\n",
    "    summary_data = {\n",
    "        'Statistic': ['Mean', 'Median', 'Std. Dev'],  # Statistics to calculate\n",
    "        'X': [data_subset['x'].mean(), data_subset['x'].median(), data_subset['x'].std()] if 'x' in var_list else ['N/A'] * 3,\n",
    "        'Y': [data_subset['y'].mean(), data_subset['y'].median(), data_subset['y'].std()] if 'y' in var_list else ['N/A'] * 3,\n",
    "        'Z': [data_subset['z'].mean(), data_subset['z'].median(), data_subset['z'].std()] if 'z' in var_list else ['N/A'] * 3,\n",
    "    }\n",
    "\n",
    "    # Convert the summary statistics to a format compatible with Dash DataTable\n",
    "    summary_table_data = pd.DataFrame(summary_data).to_dict('records')\n",
    "    \n",
    "    # Return the figure and summary table data\n",
    "    return fig, summary_table_data, notification_message\n",
    "\n",
    "# Run the Dash app\n",
    "if __name__ == '__main__':\n",
    "    app.run_server(jupyter_mode ='tab')"
   ]
  },
  {
   "cell_type": "code",
   "execution_count": null,
   "id": "d68ed314-9843-402e-be8b-31848311a566",
   "metadata": {},
   "outputs": [],
   "source": []
  },
  {
   "cell_type": "code",
   "execution_count": null,
   "id": "8ec2ed2e-bf24-4b5f-902f-5897280f4aae",
   "metadata": {},
   "outputs": [],
   "source": []
  }
 ],
 "metadata": {
  "kernelspec": {
   "display_name": "Python 3 (ipykernel)",
   "language": "python",
   "name": "python3"
  },
  "language_info": {
   "codemirror_mode": {
    "name": "ipython",
    "version": 3
   },
   "file_extension": ".py",
   "mimetype": "text/x-python",
   "name": "python",
   "nbconvert_exporter": "python",
   "pygments_lexer": "ipython3",
   "version": "3.11.7"
  }
 },
 "nbformat": 4,
 "nbformat_minor": 5
}
